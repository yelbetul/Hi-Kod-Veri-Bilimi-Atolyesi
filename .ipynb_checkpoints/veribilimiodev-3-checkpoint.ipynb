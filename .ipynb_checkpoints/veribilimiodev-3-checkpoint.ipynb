{
 "cells": [
  {
   "cell_type": "code",
   "execution_count": 1,
   "id": "bee8ccd0-9ba3-4e48-b49b-1c231844462d",
   "metadata": {},
   "outputs": [
    {
     "data": {
      "text/plain": [
       "'Kullanıcıdan pi değeri ve yarıçap bilgisi alarak dairenin alanını hesaplayan bir fonksiyon oluşturulur.'"
      ]
     },
     "execution_count": 1,
     "metadata": {},
     "output_type": "execute_result"
    }
   ],
   "source": [
    "\"\"\"Kullanıcıdan pi değeri ve yarıçap bilgisi alarak dairenin alanını hesaplayan bir fonksiyon oluşturulur.\"\"\""
   ]
  },
  {
   "cell_type": "code",
   "execution_count": 2,
   "id": "57caa739-768f-4dfa-a803-5dbbc2341123",
   "metadata": {},
   "outputs": [
    {
     "name": "stdin",
     "output_type": "stream",
     "text": [
      "Lütfen pi değerini giriniz:  2\n",
      "Lütfen yaricap değerini giriniz:  3\n"
     ]
    },
    {
     "name": "stdout",
     "output_type": "stream",
     "text": [
      "Dairenizin alanı :18.0\n"
     ]
    }
   ],
   "source": [
    "def daire_alan():\n",
    "    pi = float(input(\"Lütfen pi değerini giriniz: \"))\n",
    "    yaricap = float(input(\"Lütfen yaricap değerini giriniz: \"))\n",
    "    alan = pi * (yaricap ** 2)\n",
    "    print(\"Dairenizin alanı :\" + str(alan))\n",
    "daire_alan()"
   ]
  },
  {
   "cell_type": "code",
   "execution_count": 3,
   "id": "623260a5-c439-4139-bf11-bdff7f7030c0",
   "metadata": {},
   "outputs": [
    {
     "data": {
      "text/plain": [
       "'Faktöriyel adından fonksiyon oluşturulur. Döngü kullanarak parametre olarak girilen sayının faktöriyeli hesaplanır.\\n    Format metodunu kullanarak ekrana yazdırılır'"
      ]
     },
     "execution_count": 3,
     "metadata": {},
     "output_type": "execute_result"
    }
   ],
   "source": [
    "\"\"\"Faktöriyel adından fonksiyon oluşturulur. Döngü kullanarak parametre olarak girilen sayının faktöriyeli hesaplanır.\n",
    "    Format metodunu kullanarak ekrana yazdırılır\"\"\""
   ]
  },
  {
   "cell_type": "code",
   "execution_count": 4,
   "id": "361289cb-9395-46b7-a420-efbce7ac0697",
   "metadata": {},
   "outputs": [
    {
     "name": "stdin",
     "output_type": "stream",
     "text": [
      "Bir sayı girin:  6\n"
     ]
    },
    {
     "name": "stdout",
     "output_type": "stream",
     "text": [
      "Girilen sayının faktöriyeli: 720\n"
     ]
    }
   ],
   "source": [
    "def faktoriyel(n):\n",
    "    sonuc = 1\n",
    "    for i in range(1, n + 1):\n",
    "        sonuc *= i\n",
    "    return sonuc\n",
    "\n",
    "sayi = int(input(\"Bir sayı girin: \"))\n",
    "\n",
    "fakt = faktoriyel(sayi)\n",
    "\n",
    "print(\"Girilen sayının faktöriyeli: {}\".format(fakt))\n"
   ]
  },
  {
   "cell_type": "code",
   "execution_count": 5,
   "id": "1a3290c1-09e9-4377-b015-86320d35c84f",
   "metadata": {},
   "outputs": [
    {
     "data": {
      "text/plain": [
       "'Kişinin fonksiyona doğum yılını vererek kaç yaşında olduğunu hesaplayan bir fonksiyon oluşturun.'"
      ]
     },
     "execution_count": 5,
     "metadata": {},
     "output_type": "execute_result"
    }
   ],
   "source": [
    "\"\"\"Kişinin fonksiyona doğum yılını vererek kaç yaşında olduğunu hesaplayan bir fonksiyon oluşturun.\"\"\""
   ]
  },
  {
   "cell_type": "code",
   "execution_count": 6,
   "id": "4f75d56a-1109-4b0b-bc93-407821943042",
   "metadata": {},
   "outputs": [
    {
     "name": "stdin",
     "output_type": "stream",
     "text": [
      "Lütfen doğum yılınızı girin:  2001\n"
     ]
    },
    {
     "name": "stdout",
     "output_type": "stream",
     "text": [
      "Yaşınız: 23\n"
     ]
    }
   ],
   "source": [
    "#şuanki yılı almak için araştırıp buldum\n",
    "from datetime import date\n",
    "\n",
    "def yas_hesapla(dogum_yili):\n",
    "    # Şu anki yıl\n",
    "    simdiki_yil = date.today().year\n",
    "    yas = simdiki_yil - dogum_yili\n",
    "    return yas\n",
    "\n",
    "dogum_yili = int(input(\"Lütfen doğum yılınızı girin: \"))\n",
    "\n",
    "yas = yas_hesapla(dogum_yili)\n",
    "\n",
    "print(\"Yaşınız:\", yas)"
   ]
  },
  {
   "cell_type": "code",
   "execution_count": 7,
   "id": "b97180c3-903f-4f3b-8a49-f60a43dbb009",
   "metadata": {},
   "outputs": [
    {
     "data": {
      "text/plain": [
       "' Doğum yılı ve isim bilgisi verilen fonksiyon kişinin emekli olup olmadığını söylesin.(Kişi 65 yaşında ise emekli olur.)\\nBurada yaş hesabını yukarıdaki örnekteki fonksiyonu kullanarak yapsın.(Yani fonksiyon içinde fonksiyon kullanmanızı istiyorum :)) \\nKişi 65 yaşında ya da daha fazlaysa \"Emekli oldunuz\" yanıtını,\\n65 yaşından küçükse emekliliğine kaç yıl kaldığını da hesaplayarak \"(isim) emekliliğine (yıl) kaldı.\" yanıtını versin.'"
      ]
     },
     "execution_count": 7,
     "metadata": {},
     "output_type": "execute_result"
    }
   ],
   "source": [
    "\"\"\" Doğum yılı ve isim bilgisi verilen fonksiyon kişinin emekli olup olmadığını söylesin.(Kişi 65 yaşında ise emekli olur.)\n",
    "Burada yaş hesabını yukarıdaki örnekteki fonksiyonu kullanarak yapsın.(Yani fonksiyon içinde fonksiyon kullanmanızı istiyorum :)) \n",
    "Kişi 65 yaşında ya da daha fazlaysa \"Emekli oldunuz\" yanıtını,\n",
    "65 yaşından küçükse emekliliğine kaç yıl kaldığını da hesaplayarak \"(isim) emekliliğine (yıl) kaldı.\" yanıtını versin.\"\"\""
   ]
  },
  {
   "cell_type": "code",
   "execution_count": 8,
   "id": "b9f4a910-5acb-4d94-be28-9c792b133b4a",
   "metadata": {},
   "outputs": [
    {
     "name": "stdin",
     "output_type": "stream",
     "text": [
      "Lütfen isminizi giriniz:  Betül\n",
      "Lütfen doğum yılınızı giriniz:  2001\n"
     ]
    },
    {
     "name": "stdout",
     "output_type": "stream",
     "text": [
      "Betül Emekliliğine 42 yıl kaldı\n"
     ]
    }
   ],
   "source": [
    "from datetime import date\n",
    "def emeklilik():\n",
    "    isim = input(\"Lütfen isminizi giriniz: \")\n",
    "    dogum_yili = int(input(\"Lütfen doğum yılınızı giriniz: \"))\n",
    "    def yas():\n",
    "        simdiki_yil = date.today().year\n",
    "        yas = simdiki_yil - dogum_yili\n",
    "        return yas\n",
    "    kalan_yil = 65 - yas()\n",
    "    if yas() >= 65:\n",
    "        print(\"{}, Emekli oldunuz.\".format(isim))\n",
    "    else:\n",
    "        print(\"{} Emekliliğine {} yıl kaldı\".format(isim,kalan_yil))\n",
    "\n",
    "emeklilik()"
   ]
  },
  {
   "cell_type": "code",
   "execution_count": 9,
   "id": "6cd90a36-ae8f-4e2f-86f9-393ad0c25926",
   "metadata": {},
   "outputs": [
    {
     "name": "stdout",
     "output_type": "stream",
     "text": [
      "Betül Emekliliğine 42 yıl kaldı\n"
     ]
    }
   ],
   "source": [
    "from datetime import date\n",
    "def emeklilik(isim,dogum_yili):\n",
    "    def yas():\n",
    "        simdiki_yil = date.today().year\n",
    "        yas = simdiki_yil - dogum_yili\n",
    "        return yas\n",
    "    kalan_yil = 65 - yas()\n",
    "    if yas() >= 65:\n",
    "        print(\"{}, Emekli oldunuz.\".format(isim))\n",
    "    else:\n",
    "        print(\"{} Emekliliğine {} yıl kaldı\".format(isim,kalan_yil))\n",
    "emeklilik(\"Betül\",2001)"
   ]
  },
  {
   "cell_type": "code",
   "execution_count": null,
   "id": "0241943e-3e58-45a5-9553-1f0ee56dde16",
   "metadata": {},
   "outputs": [],
   "source": []
  }
 ],
 "metadata": {
  "kernelspec": {
   "display_name": "Python 3 (ipykernel)",
   "language": "python",
   "name": "python3"
  },
  "language_info": {
   "codemirror_mode": {
    "name": "ipython",
    "version": 3
   },
   "file_extension": ".py",
   "mimetype": "text/x-python",
   "name": "python",
   "nbconvert_exporter": "python",
   "pygments_lexer": "ipython3",
   "version": "3.11.7"
  }
 },
 "nbformat": 4,
 "nbformat_minor": 5
}
