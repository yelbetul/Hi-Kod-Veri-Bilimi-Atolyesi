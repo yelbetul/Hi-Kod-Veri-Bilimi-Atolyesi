{
 "cells": [
  {
   "cell_type": "markdown",
   "id": "ffb1b8ee-6ee8-4c23-ba67-8a7af60301c4",
   "metadata": {},
   "source": [
    "Ödev-1: Değişkenlere atanmış değerlerin veri tipleri arasında dönüşüm yapılır."
   ]
  },
  {
   "cell_type": "code",
   "execution_count": 1,
   "id": "8d75f676-70cb-4e03-ba64-cbcac40c85b7",
   "metadata": {},
   "outputs": [],
   "source": [
    "sayi1 = \"123\""
   ]
  },
  {
   "cell_type": "code",
   "execution_count": 2,
   "id": "4dee7ecd-1bd0-4f49-b9be-7cf49b38d1ca",
   "metadata": {},
   "outputs": [
    {
     "data": {
      "text/plain": [
       "123"
      ]
     },
     "execution_count": 2,
     "metadata": {},
     "output_type": "execute_result"
    }
   ],
   "source": [
    "int(sayi1)"
   ]
  },
  {
   "cell_type": "code",
   "execution_count": 3,
   "id": "774c8e84-78ec-4eef-b34a-8ac908da36be",
   "metadata": {},
   "outputs": [],
   "source": [
    "TCKimlikNo = \"23414563141\""
   ]
  },
  {
   "cell_type": "code",
   "execution_count": 4,
   "id": "614b6aee-7c06-4b8c-aa4d-df6443babfa8",
   "metadata": {},
   "outputs": [
    {
     "data": {
      "text/plain": [
       "23414563141"
      ]
     },
     "execution_count": 4,
     "metadata": {},
     "output_type": "execute_result"
    }
   ],
   "source": [
    "int(TCKimlikNo)"
   ]
  },
  {
   "cell_type": "code",
   "execution_count": 5,
   "id": "f49c60d4-9269-4f6b-9364-49e475b3d3ab",
   "metadata": {},
   "outputs": [],
   "source": [
    "portakal = \"2.3\""
   ]
  },
  {
   "cell_type": "code",
   "execution_count": 6,
   "id": "dc47f6e8-881b-4543-9d4c-fd5ecd41548b",
   "metadata": {},
   "outputs": [
    {
     "data": {
      "text/plain": [
       "2.3"
      ]
     },
     "execution_count": 6,
     "metadata": {},
     "output_type": "execute_result"
    }
   ],
   "source": [
    "float(portakal)"
   ]
  },
  {
   "cell_type": "markdown",
   "id": "42c47f63-3912-4a2a-9886-5858a201858b",
   "metadata": {},
   "source": [
    "Ödev-2: İsimlerden oluşan üç değişkene yaş değerleri atanır. Belirlenen üç değişken birbiriyle karşılaştırma operatörleri ile karşılaştırılır. Bu karşılaştırmalara mantıksal operatörler de eklenir."
   ]
  },
  {
   "cell_type": "code",
   "execution_count": 7,
   "id": "1cc17177-d2d1-43a4-a208-99844e8c5987",
   "metadata": {},
   "outputs": [],
   "source": [
    "betul = 23\n",
    "sema = 32\n",
    "hasan = 12\n",
    "berkay = 12"
   ]
  },
  {
   "cell_type": "code",
   "execution_count": 8,
   "id": "804292bd-5677-4ab0-9bd5-048ea6ea0354",
   "metadata": {},
   "outputs": [
    {
     "data": {
      "text/plain": [
       "False"
      ]
     },
     "execution_count": 8,
     "metadata": {},
     "output_type": "execute_result"
    }
   ],
   "source": [
    "sema == betul"
   ]
  },
  {
   "cell_type": "code",
   "execution_count": 9,
   "id": "7011c4bc-2eed-4eb2-822a-783373149503",
   "metadata": {},
   "outputs": [
    {
     "data": {
      "text/plain": [
       "True"
      ]
     },
     "execution_count": 9,
     "metadata": {},
     "output_type": "execute_result"
    }
   ],
   "source": [
    "berkay == hasan"
   ]
  },
  {
   "cell_type": "code",
   "execution_count": 10,
   "id": "c682fcca-766a-4f8e-85d1-ac9c15bee852",
   "metadata": {},
   "outputs": [
    {
     "data": {
      "text/plain": [
       "True"
      ]
     },
     "execution_count": 10,
     "metadata": {},
     "output_type": "execute_result"
    }
   ],
   "source": [
    "hasan != sema"
   ]
  },
  {
   "cell_type": "code",
   "execution_count": 11,
   "id": "3882ca1a-77f3-490c-9933-bb8d4ea6b740",
   "metadata": {},
   "outputs": [
    {
     "data": {
      "text/plain": [
       "True"
      ]
     },
     "execution_count": 11,
     "metadata": {},
     "output_type": "execute_result"
    }
   ],
   "source": [
    "sema > betul"
   ]
  },
  {
   "cell_type": "code",
   "execution_count": 12,
   "id": "56699f6c-6fe4-4c40-9955-26ddc6c110d8",
   "metadata": {},
   "outputs": [
    {
     "data": {
      "text/plain": [
       "False"
      ]
     },
     "execution_count": 12,
     "metadata": {},
     "output_type": "execute_result"
    }
   ],
   "source": [
    "sema < berkay"
   ]
  },
  {
   "cell_type": "code",
   "execution_count": 13,
   "id": "c925f6f8-ebce-48a1-9b9e-8dc3aaa97e7f",
   "metadata": {},
   "outputs": [
    {
     "data": {
      "text/plain": [
       "True"
      ]
     },
     "execution_count": 13,
     "metadata": {},
     "output_type": "execute_result"
    }
   ],
   "source": [
    "hasan <= berkay"
   ]
  },
  {
   "cell_type": "code",
   "execution_count": 14,
   "id": "ed68eaa9-962e-465c-8dda-66227a93698e",
   "metadata": {},
   "outputs": [
    {
     "data": {
      "text/plain": [
       "True"
      ]
     },
     "execution_count": 14,
     "metadata": {},
     "output_type": "execute_result"
    }
   ],
   "source": [
    "(hasan >= berkay) and (sema != betul)"
   ]
  },
  {
   "cell_type": "code",
   "execution_count": 15,
   "id": "e248123a-97e8-4da7-898b-3db798fcbb4b",
   "metadata": {},
   "outputs": [
    {
     "data": {
      "text/plain": [
       "False"
      ]
     },
     "execution_count": 15,
     "metadata": {},
     "output_type": "execute_result"
    }
   ],
   "source": [
    "(sema == berkay) and (hasan > betul)"
   ]
  },
  {
   "cell_type": "code",
   "execution_count": 16,
   "id": "bc6b3b4f-6482-4205-85d7-90a2de2544ff",
   "metadata": {},
   "outputs": [
    {
     "data": {
      "text/plain": [
       "True"
      ]
     },
     "execution_count": 16,
     "metadata": {},
     "output_type": "execute_result"
    }
   ],
   "source": [
    "(hasan >= berkay) or (sema != betul)"
   ]
  },
  {
   "cell_type": "code",
   "execution_count": 17,
   "id": "3048cb7a-f1de-4fed-9f83-609944fd4f31",
   "metadata": {},
   "outputs": [
    {
     "data": {
      "text/plain": [
       "True"
      ]
     },
     "execution_count": 17,
     "metadata": {},
     "output_type": "execute_result"
    }
   ],
   "source": [
    "not ( hasan == betul) or (sema > berkay)"
   ]
  },
  {
   "cell_type": "markdown",
   "id": "bcc18bdf-01b5-4da7-81ee-86ad18e78f95",
   "metadata": {},
   "source": [
    "Ödev-3: Kullanıcıdan iki değer girmesini istenir. Girilen değerlerin toplama, çıkarma, çarpma, bölme sonuçlarını yazdırılır."
   ]
  },
  {
   "cell_type": "code",
   "execution_count": 18,
   "id": "e7071226-81c7-442c-a68f-4737067ae5d9",
   "metadata": {},
   "outputs": [
    {
     "name": "stdin",
     "output_type": "stream",
     "text": [
      "lütfen bir değer giriniz: 3\n",
      "lütfen ikinci değeri giriniz: 5\n"
     ]
    }
   ],
   "source": [
    "a = int(input(\"lütfen bir değer giriniz:\"))\n",
    "b = int(input(\"lütfen ikinci değeri giriniz:\"))"
   ]
  },
  {
   "cell_type": "code",
   "execution_count": 19,
   "id": "9391b68d-1f72-4ca8-ae96-06be4c94f744",
   "metadata": {},
   "outputs": [
    {
     "data": {
      "text/plain": [
       "3"
      ]
     },
     "execution_count": 19,
     "metadata": {},
     "output_type": "execute_result"
    }
   ],
   "source": [
    "a"
   ]
  },
  {
   "cell_type": "code",
   "execution_count": 20,
   "id": "3b527d27-5299-40f5-96c0-b321835c685d",
   "metadata": {},
   "outputs": [
    {
     "data": {
      "text/plain": [
       "5"
      ]
     },
     "execution_count": 20,
     "metadata": {},
     "output_type": "execute_result"
    }
   ],
   "source": [
    "b"
   ]
  },
  {
   "cell_type": "code",
   "execution_count": 21,
   "id": "d5760b95-f403-44a5-84bb-4a129a117fc4",
   "metadata": {},
   "outputs": [
    {
     "data": {
      "text/plain": [
       "8"
      ]
     },
     "execution_count": 21,
     "metadata": {},
     "output_type": "execute_result"
    }
   ],
   "source": [
    "a + b"
   ]
  },
  {
   "cell_type": "code",
   "execution_count": 22,
   "id": "9636e347-de9c-4f6e-95d1-77aa80acc8b2",
   "metadata": {},
   "outputs": [
    {
     "data": {
      "text/plain": [
       "-2"
      ]
     },
     "execution_count": 22,
     "metadata": {},
     "output_type": "execute_result"
    }
   ],
   "source": [
    "a - b "
   ]
  },
  {
   "cell_type": "code",
   "execution_count": 23,
   "id": "84b646fe-51be-4c15-88b8-3098e83f7d10",
   "metadata": {},
   "outputs": [
    {
     "data": {
      "text/plain": [
       "0"
      ]
     },
     "execution_count": 23,
     "metadata": {},
     "output_type": "execute_result"
    }
   ],
   "source": [
    "a // b"
   ]
  },
  {
   "cell_type": "code",
   "execution_count": 24,
   "id": "6597eb00-66e4-4bc8-913d-7a4a6d9f9b27",
   "metadata": {},
   "outputs": [
    {
     "data": {
      "text/plain": [
       "1"
      ]
     },
     "execution_count": 24,
     "metadata": {},
     "output_type": "execute_result"
    }
   ],
   "source": [
    "b // a"
   ]
  },
  {
   "cell_type": "code",
   "execution_count": 25,
   "id": "c856e691-096b-4a4a-9e33-2d8e1106550a",
   "metadata": {},
   "outputs": [
    {
     "data": {
      "text/plain": [
       "2"
      ]
     },
     "execution_count": 25,
     "metadata": {},
     "output_type": "execute_result"
    }
   ],
   "source": [
    " b % a"
   ]
  },
  {
   "cell_type": "code",
   "execution_count": 26,
   "id": "82febbac-060b-425d-bca7-9317d8ac7f9e",
   "metadata": {},
   "outputs": [
    {
     "data": {
      "text/plain": [
       "15"
      ]
     },
     "execution_count": 26,
     "metadata": {},
     "output_type": "execute_result"
    }
   ],
   "source": [
    "a * b"
   ]
  },
  {
   "cell_type": "code",
   "execution_count": 27,
   "id": "a35e81fc-0dc7-4a6f-802c-fd1df5b862a1",
   "metadata": {},
   "outputs": [
    {
     "data": {
      "text/plain": [
       "243"
      ]
     },
     "execution_count": 27,
     "metadata": {},
     "output_type": "execute_result"
    }
   ],
   "source": [
    "a ** b"
   ]
  },
  {
   "cell_type": "markdown",
   "id": "6fe99901-81fd-4a9c-95c5-4a3cb2b24855",
   "metadata": {},
   "source": [
    "karmaşık bir şekilde çözmek istersek"
   ]
  },
  {
   "cell_type": "code",
   "execution_count": 29,
   "id": "44a1d153-9afd-40ac-a6ac-40404d2b6d86",
   "metadata": {},
   "outputs": [
    {
     "name": "stdin",
     "output_type": "stream",
     "text": [
      "lütfen bir değer giriniz: 2\n",
      "lütfen ikinci değeri giriniz: 3\n"
     ]
    },
    {
     "name": "stdout",
     "output_type": "stream",
     "text": [
      "5\n"
     ]
    }
   ],
   "source": [
    "print(int(input(\"lütfen bir değer giriniz:\")) + int(input(\"lütfen ikinci değeri giriniz:\")))"
   ]
  },
  {
   "cell_type": "code",
   "execution_count": 30,
   "id": "e47e1861-07f5-4200-b602-bc4ee593e9a1",
   "metadata": {},
   "outputs": [
    {
     "name": "stdin",
     "output_type": "stream",
     "text": [
      "lütfen bir değer giriniz: 212\n",
      "lütfen ikinci değeri giriniz: 2\n"
     ]
    },
    {
     "name": "stdout",
     "output_type": "stream",
     "text": [
      "210\n"
     ]
    }
   ],
   "source": [
    "print(int(input(\"lütfen bir değer giriniz:\")) - int(input(\"lütfen ikinci değeri giriniz:\")))"
   ]
  },
  {
   "cell_type": "code",
   "execution_count": 31,
   "id": "3d8bfafc-dc53-439a-8191-f07cda6b54d7",
   "metadata": {},
   "outputs": [
    {
     "name": "stdin",
     "output_type": "stream",
     "text": [
      "lütfen bir değer giriniz: 23\n",
      "lütfen ikinci değeri giriniz: 4\n"
     ]
    },
    {
     "name": "stdout",
     "output_type": "stream",
     "text": [
      "92\n"
     ]
    }
   ],
   "source": [
    "print(int(input(\"lütfen bir değer giriniz:\")) * int(input(\"lütfen ikinci değeri giriniz:\")))"
   ]
  },
  {
   "cell_type": "code",
   "execution_count": 32,
   "id": "a1c50160-fdf3-43e7-aa03-376561bd20d4",
   "metadata": {},
   "outputs": [
    {
     "name": "stdin",
     "output_type": "stream",
     "text": [
      "lütfen bir değer giriniz: 2\n",
      "lütfen ikinci değeri giriniz: 3\n"
     ]
    },
    {
     "name": "stdout",
     "output_type": "stream",
     "text": [
      "8\n"
     ]
    }
   ],
   "source": [
    "print(int(input(\"lütfen bir değer giriniz:\")) ** int(input(\"lütfen ikinci değeri giriniz:\")))"
   ]
  },
  {
   "cell_type": "markdown",
   "id": "280d6394-ce6d-43e9-a153-f1e545f4ad74",
   "metadata": {},
   "source": [
    "Ödev-4: Kullanıcıdan isim, yaş, şehir ve meslek bilgilerini istenir ve cevaplarını yazdırılır."
   ]
  },
  {
   "cell_type": "code",
   "execution_count": 33,
   "id": "f7f75d76-81a4-44e9-b48d-14de42b31b02",
   "metadata": {},
   "outputs": [
    {
     "name": "stdin",
     "output_type": "stream",
     "text": [
      "lütfen isminizi giriniz: bet\n",
      "lütfen yaşınızı giriniz: e\n",
      "lütfen memleketinizi giriniz: \n",
      "lütfen mesleğinizi giriniz: e\n"
     ]
    },
    {
     "name": "stdout",
     "output_type": "stream",
     "text": [
      "İsim: bet Yas: e Sehir:  Meslek: e\n"
     ]
    }
   ],
   "source": [
    "print(\"İsim: \" + str(input(\"lütfen isminizi giriniz:\")) + \" Yas: \" + str(input(\"lütfen yaşınızı giriniz:\")) + \" Sehir: \" + str(input(\"lütfen memleketinizi giriniz:\")) + \" Meslek: \" + str(input(\"lütfen mesleğinizi giriniz:\")))"
   ]
  },
  {
   "cell_type": "markdown",
   "id": "ee9fc011-96e0-42ca-bed3-437861e302a9",
   "metadata": {},
   "source": [
    "Ödev-5: \"Hi-Kod Veri Bilimi Atölyesi\" ifadesini bir değişkene tanımlanır.i\") \r\n"
   ]
  },
  {
   "cell_type": "markdown",
   "id": "952162bf-39b6-4c87-84bc-7d296ce3c26e",
   "metadata": {},
   "source": [
    "\r\n",
    " İfadedeki her bir kelimeyi (\"Hi-Kod\", \"Veri\", \"Bilimi\", \"Atölyesi\") değişken için secilir\n",
    "i\") \r\n"
   ]
  },
  {
   "cell_type": "code",
   "execution_count": 34,
   "id": "6d650309-a808-455c-bf94-f12e813c6850",
   "metadata": {},
   "outputs": [],
   "source": [
    "atölye = \"Hi-Kod Veri Bilimi Atölyesi\""
   ]
  },
  {
   "cell_type": "code",
   "execution_count": 35,
   "id": "96e3d7b2-0774-4801-9c54-8a595f9117f0",
   "metadata": {},
   "outputs": [
    {
     "data": {
      "text/plain": [
       "['Hi-Kod', 'Veri', 'Bilimi', 'Atölyesi']"
      ]
     },
     "execution_count": 35,
     "metadata": {},
     "output_type": "execute_result"
    }
   ],
   "source": [
    "atölye.split()"
   ]
  },
  {
   "cell_type": "markdown",
   "id": "b2a5a09f-6625-4a31-8852-2aaa214e6e7e",
   "metadata": {},
   "source": [
    "İfadeyi hepsini büyük harf olacak hale çevrilir. (\"HI-KOD VERİ BİLİMİ ATÖLYESİ\") "
   ]
  },
  {
   "cell_type": "code",
   "execution_count": 36,
   "id": "7dfed08c-88ab-4fb5-a73f-1d89376c876e",
   "metadata": {},
   "outputs": [
    {
     "data": {
      "text/plain": [
       "'HI-KOD VERI BILIMI ATÖLYESI'"
      ]
     },
     "execution_count": 36,
     "metadata": {},
     "output_type": "execute_result"
    }
   ],
   "source": [
    "atölye.upper()"
   ]
  },
  {
   "cell_type": "markdown",
   "id": "c721ef54-03b8-4737-a3da-409cfb2e3975",
   "metadata": {},
   "source": [
    "İfadeyi hepsini küçük harf olacak hale çevrilir.(\"hi-kod veri bilimi atölyesi\") "
   ]
  },
  {
   "cell_type": "code",
   "execution_count": 37,
   "id": "a1bad32f-5810-43e5-8882-79feb42b4897",
   "metadata": {},
   "outputs": [
    {
     "data": {
      "text/plain": [
       "'hi-kod veri bilimi atölyesi'"
      ]
     },
     "execution_count": 37,
     "metadata": {},
     "output_type": "execute_result"
    }
   ],
   "source": [
    "atölye.lower()"
   ]
  },
  {
   "cell_type": "markdown",
   "id": "123aa7fd-020f-44f7-a392-b9360fb5c738",
   "metadata": {},
   "source": [
    "\"0123456789\" ifadesindeki yalnızca çift sayıları ve yalnızca tek sayıları seçilir. (\"02468\", \"13579\")"
   ]
  },
  {
   "cell_type": "code",
   "execution_count": 38,
   "id": "e8d8487a-f41f-45b8-84ea-fb963847b8c3",
   "metadata": {},
   "outputs": [],
   "source": [
    "sayi = \"0123456789\""
   ]
  },
  {
   "cell_type": "code",
   "execution_count": 39,
   "id": "8b8c4628-b080-49c9-bdba-d39e4828d07d",
   "metadata": {},
   "outputs": [
    {
     "data": {
      "text/plain": [
       "'13579'"
      ]
     },
     "execution_count": 39,
     "metadata": {},
     "output_type": "execute_result"
    }
   ],
   "source": [
    "sayi [1::2]"
   ]
  },
  {
   "cell_type": "code",
   "execution_count": 40,
   "id": "188e253c-76cd-4a97-89e0-e59c4b594dfc",
   "metadata": {},
   "outputs": [
    {
     "data": {
      "text/plain": [
       "'02468'"
      ]
     },
     "execution_count": 40,
     "metadata": {},
     "output_type": "execute_result"
    }
   ],
   "source": [
    "sayi [::2]"
   ]
  },
  {
   "cell_type": "code",
   "execution_count": null,
   "id": "56ecfcf8-447e-40f6-85e7-d48207ad7cfb",
   "metadata": {},
   "outputs": [],
   "source": []
  }
 ],
 "metadata": {
  "kernelspec": {
   "display_name": "Python 3 (ipykernel)",
   "language": "python",
   "name": "python3"
  },
  "language_info": {
   "codemirror_mode": {
    "name": "ipython",
    "version": 3
   },
   "file_extension": ".py",
   "mimetype": "text/x-python",
   "name": "python",
   "nbconvert_exporter": "python",
   "pygments_lexer": "ipython3",
   "version": "3.11.7"
  }
 },
 "nbformat": 4,
 "nbformat_minor": 5
}
