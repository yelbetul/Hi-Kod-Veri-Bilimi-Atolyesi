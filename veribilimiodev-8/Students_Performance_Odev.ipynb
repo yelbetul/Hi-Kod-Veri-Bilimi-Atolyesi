{
 "cells": [
  {
   "cell_type": "code",
   "execution_count": 9,
   "id": "33ee41d8",
   "metadata": {},
   "outputs": [],
   "source": [
    "import pandas as pd\n",
    "import matplotlib.pyplot as plt\n",
    "import seaborn as sns"
   ]
  },
  {
   "cell_type": "code",
   "execution_count": null,
   "id": "a68051e2",
   "metadata": {},
   "outputs": [],
   "source": [
    "#1\n",
    "df = #dosyayı okuyalım\n",
    "df.head()"
   ]
  },
  {
   "cell_type": "code",
   "execution_count": 1,
   "id": "d0ddb1a7",
   "metadata": {},
   "outputs": [],
   "source": [
    "#2\n",
    "#kadın-erkek sayısına bakalım"
   ]
  },
  {
   "cell_type": "code",
   "execution_count": 2,
   "id": "4810eaaf",
   "metadata": {},
   "outputs": [],
   "source": [
    "#3\n",
    "#kadın-erkek sayısına histogram grafiği ile bakalım"
   ]
  },
  {
   "cell_type": "code",
   "execution_count": 14,
   "id": "0ddc0277",
   "metadata": {},
   "outputs": [],
   "source": [
    "#4\n",
    "#race/ethnicity sütununda kaç farklı grup olduğuna bakalım"
   ]
  },
  {
   "cell_type": "code",
   "execution_count": null,
   "id": "dceebc62",
   "metadata": {},
   "outputs": [],
   "source": [
    "race = df[\"race/ethnicity\"].value_counts()\n",
    "race"
   ]
  },
  {
   "cell_type": "code",
   "execution_count": 13,
   "id": "238e8a54",
   "metadata": {},
   "outputs": [],
   "source": [
    "#5\n",
    "#yukarıda bulduğumuzu görselleştirelim"
   ]
  },
  {
   "cell_type": "code",
   "execution_count": 12,
   "id": "f853caba",
   "metadata": {},
   "outputs": [],
   "source": [
    "#6\n",
    "#parental level of education sütunundaki eşsiz değerleri bulalım"
   ]
  },
  {
   "cell_type": "code",
   "execution_count": null,
   "id": "5adac7c8",
   "metadata": {},
   "outputs": [],
   "source": [
    "df[\"parental level of education\"].value_counts()"
   ]
  },
  {
   "cell_type": "code",
   "execution_count": 11,
   "id": "ed8a3d98",
   "metadata": {},
   "outputs": [],
   "source": [
    "#7\n",
    "#lunch sütununda eşsiz değerlere ulaşalım"
   ]
  },
  {
   "cell_type": "code",
   "execution_count": 10,
   "id": "5e482872",
   "metadata": {},
   "outputs": [],
   "source": [
    "#8\n",
    "#lunch türlerinde kaçar kişi olduğunu bulalım"
   ]
  },
  {
   "cell_type": "code",
   "execution_count": null,
   "id": "266cf2a8",
   "metadata": {},
   "outputs": [],
   "source": [
    "df[\"test preparation course\"].value_counts()"
   ]
  },
  {
   "cell_type": "code",
   "execution_count": 9,
   "id": "a781b74d",
   "metadata": {},
   "outputs": [],
   "source": [
    "#9\n",
    "#gender sütunundaki değerler için ortalama math score, reading score, writing score değerlerini bulalım."
   ]
  },
  {
   "cell_type": "code",
   "execution_count": 8,
   "id": "21baad42",
   "metadata": {},
   "outputs": [],
   "source": [
    "#10\n",
    "#race/ethnicity sütunundaki değerler için ortalama math score, reading score, writing score değerlerini bulalım."
   ]
  },
  {
   "cell_type": "code",
   "execution_count": 6,
   "id": "2b6515b8",
   "metadata": {},
   "outputs": [],
   "source": [
    "#11\n",
    "#parental level of education sütunundaki değerler için ortalama math score, reading score, writing score değerlerini bulalım.\n"
   ]
  },
  {
   "cell_type": "code",
   "execution_count": 5,
   "id": "0fef018d",
   "metadata": {},
   "outputs": [],
   "source": [
    "#12\n",
    "#lunch sütunundaki değerler için ortalama math score, reading score, writing score değerlerini bulalım.\n"
   ]
  },
  {
   "cell_type": "code",
   "execution_count": 4,
   "id": "b3cd6869",
   "metadata": {},
   "outputs": [],
   "source": [
    "#13\n",
    "#test preparation coursesütunundaki değerler için ortalama math score, reading score, writing score değerlerini bulalım.\n"
   ]
  },
  {
   "cell_type": "code",
   "execution_count": null,
   "id": "0cf3de95",
   "metadata": {},
   "outputs": [],
   "source": []
  }
 ],
 "metadata": {
  "kernelspec": {
   "display_name": "Python 3 (ipykernel)",
   "language": "python",
   "name": "python3"
  },
  "language_info": {
   "codemirror_mode": {
    "name": "ipython",
    "version": 3
   },
   "file_extension": ".py",
   "mimetype": "text/x-python",
   "name": "python",
   "nbconvert_exporter": "python",
   "pygments_lexer": "ipython3",
   "version": "3.9.12"
  }
 },
 "nbformat": 4,
 "nbformat_minor": 5
}
