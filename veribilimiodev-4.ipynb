{
 "cells": [
  {
   "cell_type": "code",
   "execution_count": 1,
   "id": "13b0f34b-4496-4c22-bf5e-702a8cd38dcb",
   "metadata": {},
   "outputs": [],
   "source": [
    "liste = [\"Python\",True,9,\"3\",8.4,\"Hi-Kod\",\"False\",4.7]"
   ]
  },
  {
   "cell_type": "code",
   "execution_count": 2,
   "id": "070be854-4b05-4598-8d9a-19c397474be5",
   "metadata": {},
   "outputs": [],
   "source": [
    "#\"3\" değerine ulaşmak için indexleme yapın."
   ]
  },
  {
   "cell_type": "code",
   "execution_count": 4,
   "id": "4e9aa3ec-8919-4811-87c6-4f15418a3ca3",
   "metadata": {},
   "outputs": [
    {
     "data": {
      "text/plain": [
       "'3'"
      ]
     },
     "execution_count": 4,
     "metadata": {},
     "output_type": "execute_result"
    }
   ],
   "source": [
    "liste[3]"
   ]
  },
  {
   "cell_type": "code",
   "execution_count": 5,
   "id": "e97720ca-be8f-454c-86e2-cd971c8177f0",
   "metadata": {},
   "outputs": [],
   "source": [
    "#\"Hi-Kod\" değerine ulaşmak için indexleme yapın."
   ]
  },
  {
   "cell_type": "code",
   "execution_count": 6,
   "id": "159e97e3-7b1f-4541-8ef3-925e1474e003",
   "metadata": {},
   "outputs": [
    {
     "data": {
      "text/plain": [
       "'Hi-Kod'"
      ]
     },
     "execution_count": 6,
     "metadata": {},
     "output_type": "execute_result"
    }
   ],
   "source": [
    "liste[-3]"
   ]
  },
  {
   "cell_type": "code",
   "execution_count": 7,
   "id": "5b51a985-d29b-49dc-9c62-dd1190525371",
   "metadata": {},
   "outputs": [],
   "source": [
    "#4.7 değerine ulaşmak için indexleme yapın."
   ]
  },
  {
   "cell_type": "code",
   "execution_count": 8,
   "id": "61d63d67-47be-43fe-9553-6b1c5abf1ed4",
   "metadata": {},
   "outputs": [
    {
     "data": {
      "text/plain": [
       "4.7"
      ]
     },
     "execution_count": 8,
     "metadata": {},
     "output_type": "execute_result"
    }
   ],
   "source": [
    "liste[-1]"
   ]
  },
  {
   "cell_type": "code",
   "execution_count": 9,
   "id": "a71cd231-a1de-4c95-983f-97c9677fa322",
   "metadata": {},
   "outputs": [],
   "source": [
    "#9,\"3\",8.4,\"Hi-Kod\" değerlerine ulaşmak için slicing yapın."
   ]
  },
  {
   "cell_type": "code",
   "execution_count": 10,
   "id": "481e8239-634e-4906-9e56-6b2f79691a9c",
   "metadata": {},
   "outputs": [
    {
     "data": {
      "text/plain": [
       "[9, '3', 8.4, 'Hi-Kod']"
      ]
     },
     "execution_count": 10,
     "metadata": {},
     "output_type": "execute_result"
    }
   ],
   "source": [
    "liste[2:6]"
   ]
  },
  {
   "cell_type": "code",
   "execution_count": 11,
   "id": "20bbcdd3-fe81-4e66-91f9-882d618acea3",
   "metadata": {},
   "outputs": [],
   "source": [
    "#8.4,\"Hi-Kod\",\"False\",4.7 değerlerine ulaşmak için slicing yapın."
   ]
  },
  {
   "cell_type": "code",
   "execution_count": 18,
   "id": "186eaae3-d1aa-4eba-84f8-59c7622d1f79",
   "metadata": {},
   "outputs": [
    {
     "data": {
      "text/plain": [
       "[8.4, 'Hi-Kod', 'False', 4.7]"
      ]
     },
     "execution_count": 18,
     "metadata": {},
     "output_type": "execute_result"
    }
   ],
   "source": [
    "liste[-4:]"
   ]
  },
  {
   "cell_type": "code",
   "execution_count": 19,
   "id": "ac1e4f03-3f94-4303-ba7a-f4808bb5c792",
   "metadata": {},
   "outputs": [],
   "source": [
    "liste = [\"Python\",True,9,\"3\",8.4,\"Hi-Kod\",\"False\",4.7]"
   ]
  },
  {
   "cell_type": "code",
   "execution_count": 21,
   "id": "820d24f6-4608-4921-bccb-0a1d9ac80c5c",
   "metadata": {},
   "outputs": [],
   "source": [
    "#Verilen listede bulunan string veri tipindeki öğeleri yeni_liste isimli listeye eklenir."
   ]
  },
  {
   "cell_type": "code",
   "execution_count": 22,
   "id": "e7e50a88-b775-4582-9c01-cdab49840343",
   "metadata": {},
   "outputs": [],
   "source": [
    "yeni_liste = []"
   ]
  },
  {
   "cell_type": "code",
   "execution_count": 23,
   "id": "24751f0d-4594-45cc-acc6-55252a367e72",
   "metadata": {},
   "outputs": [],
   "source": [
    "yeni_liste.append(liste[0])"
   ]
  },
  {
   "cell_type": "code",
   "execution_count": 24,
   "id": "04398cf8-7de3-4bc6-8f48-f2baed537224",
   "metadata": {},
   "outputs": [],
   "source": [
    "yeni_liste.append(liste[3])"
   ]
  },
  {
   "cell_type": "code",
   "execution_count": 25,
   "id": "75c602e3-27a1-4b86-8bd3-20bda15a4bb8",
   "metadata": {},
   "outputs": [],
   "source": [
    "yeni_liste.append(liste[5])"
   ]
  },
  {
   "cell_type": "code",
   "execution_count": 26,
   "id": "1ccbd922-71cb-485b-ba96-e6884d8888a1",
   "metadata": {},
   "outputs": [],
   "source": [
    "yeni_liste.append(liste[6])"
   ]
  },
  {
   "cell_type": "code",
   "execution_count": 27,
   "id": "c26042bb-d92a-4f5c-ac4b-c298dd28f65d",
   "metadata": {},
   "outputs": [
    {
     "data": {
      "text/plain": [
       "['Python', '3', 'Hi-Kod', 'False']"
      ]
     },
     "execution_count": 27,
     "metadata": {},
     "output_type": "execute_result"
    }
   ],
   "source": [
    "yeni_liste"
   ]
  },
  {
   "cell_type": "code",
   "execution_count": 29,
   "id": "0f7ddf90-f4e7-4529-989f-af0fd0551c68",
   "metadata": {},
   "outputs": [],
   "source": [
    "meyveler = ['elma', 'armut', 'muz', 'çilek', 'ayva', 'kiraz']"
   ]
  },
  {
   "cell_type": "code",
   "execution_count": 31,
   "id": "1ff9f1a3-8347-4d5d-9241-ad7351a23930",
   "metadata": {},
   "outputs": [
    {
     "name": "stdout",
     "output_type": "stream",
     "text": [
      "0. indexte bulunan meyve: elma\n",
      "1. indexte bulunan meyve: armut\n",
      "2. indexte bulunan meyve: muz\n",
      "3. indexte bulunan meyve: çilek\n",
      "4. indexte bulunan meyve: ayva\n",
      "5. indexte bulunan meyve: kiraz\n"
     ]
    }
   ],
   "source": [
    "for index, meyve in enumerate(meyveler):\n",
    "    print(\"{}. indexte bulunan meyve: {}\".format(index, meyve))"
   ]
  },
  {
   "cell_type": "code",
   "execution_count": null,
   "id": "96b1c9ca-99dd-4953-a36d-d29e04c156e8",
   "metadata": {},
   "outputs": [],
   "source": []
  },
  {
   "cell_type": "code",
   "execution_count": null,
   "id": "98a17352-7859-4ea3-84dc-ea5d909ba54f",
   "metadata": {},
   "outputs": [],
   "source": []
  }
 ],
 "metadata": {
  "kernelspec": {
   "display_name": "Python 3 (ipykernel)",
   "language": "python",
   "name": "python3"
  },
  "language_info": {
   "codemirror_mode": {
    "name": "ipython",
    "version": 3
   },
   "file_extension": ".py",
   "mimetype": "text/x-python",
   "name": "python",
   "nbconvert_exporter": "python",
   "pygments_lexer": "ipython3",
   "version": "3.11.7"
  }
 },
 "nbformat": 4,
 "nbformat_minor": 5
}
