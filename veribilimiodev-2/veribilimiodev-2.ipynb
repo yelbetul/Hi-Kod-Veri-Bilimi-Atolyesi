{
 "cells": [
  {
   "cell_type": "code",
   "execution_count": 1,
   "id": "93f83cde-7fd3-466a-8480-76af37f4e1ea",
   "metadata": {},
   "outputs": [
    {
     "data": {
      "text/plain": [
       "' Ödev-1 : Kullanıcıdan maaş bilgisini istenir ve bu bilgiye göre maaşından ne kadar vergi kesileceğini hesaplanır.\\nKullanıcı geliri;\\n 1- 10000 ve altındaysa maaşından %5 kesinti olur.\\n 2- 25000 ve altındaysa maaşından %10 kesinti olur.\\n 3- 45000 ve altındaysa maaşından %25 kesinti olur.\\n 4- Diğer koşullarda %30 kesinti olur.\\nBu durumlara göre kullanıcının yeni maaşı yazdırılır.'"
      ]
     },
     "execution_count": 1,
     "metadata": {},
     "output_type": "execute_result"
    }
   ],
   "source": [
    "\"\"\" Ödev-1 : Kullanıcıdan maaş bilgisini istenir ve bu bilgiye göre maaşından ne kadar vergi kesileceğini hesaplanır.\n",
    "Kullanıcı geliri;\n",
    " 1- 10000 ve altındaysa maaşından %5 kesinti olur.\n",
    " 2- 25000 ve altındaysa maaşından %10 kesinti olur.\n",
    " 3- 45000 ve altındaysa maaşından %25 kesinti olur.\n",
    " 4- Diğer koşullarda %30 kesinti olur.\n",
    "Bu durumlara göre kullanıcının yeni maaşı yazdırılır.\"\"\""
   ]
  },
  {
   "cell_type": "code",
   "execution_count": 2,
   "id": "e377d9a2-a3fe-41d2-888e-cd126ba98911",
   "metadata": {},
   "outputs": [
    {
     "name": "stdin",
     "output_type": "stream",
     "text": [
      "Lütfen maaş bilginizi giriniz: 45876\n"
     ]
    },
    {
     "name": "stdout",
     "output_type": "stream",
     "text": [
      "%30 kesinti olması halinde maaşınız: 32113\n"
     ]
    }
   ],
   "source": [
    "# kullanıcıdan maaş bilgisi istenir\n",
    "maas = int(input(\"Lütfen maaş bilginizi giriniz:\"))\n",
    "\n",
    "if maas <= 10000:\n",
    "    maas = maas - ( maas * 0.05 )\n",
    "    print(\"%5 kesinti olması halinde maaşınız: \" + str(int(maas)))\n",
    "elif maas <= 25000:\n",
    "    maas = maas - (maas * 0.10 )\n",
    "    print(\"%10 kesinti olması halinde maaşınız: \" + str(int(maas)))\n",
    "elif maas <= 45000:\n",
    "    maas = maas - (maas * 0.25)\n",
    "    print(\"%25 kesinti olması halinde maaşınız: \" + str(int(maas)))\n",
    "else:\n",
    "    maas = maas - (maas * 0.30)\n",
    "    print(\"%30 kesinti olması halinde maaşınız: \" + str(int(maas)))"
   ]
  },
  {
   "cell_type": "code",
   "execution_count": 3,
   "id": "3fb11cf9-d0fe-47d5-84b0-6cfc73f5e5e4",
   "metadata": {
    "scrolled": true
   },
   "outputs": [
    {
     "data": {
      "text/plain": [
       "' Ödev-2 : Kullanıcıdan kullanıcı adı ve şifre oluşturulmasını istenir. Şifrenin uzunluğu altı haneye ulaşmışsa hesabınız oluşturuldu mesajı alınır,\\naltı haneden azsa altı haneli şifre oluşturması gerektiğinin mesajı alınır. (Sadece koşul kullanlması yeterli.)\\n'"
      ]
     },
     "execution_count": 3,
     "metadata": {},
     "output_type": "execute_result"
    }
   ],
   "source": [
    "\"\"\" Ödev-2 : Kullanıcıdan kullanıcı adı ve şifre oluşturulmasını istenir. Şifrenin uzunluğu altı haneye ulaşmışsa hesabınız oluşturuldu mesajı alınır,\n",
    "altı haneden azsa altı haneli şifre oluşturması gerektiğinin mesajı alınır. (Sadece koşul kullanlması yeterli.)\n",
    "\"\"\""
   ]
  },
  {
   "cell_type": "code",
   "execution_count": 4,
   "id": "3e4b0928-935d-4cca-92fe-61d968cd6ce0",
   "metadata": {},
   "outputs": [
    {
     "name": "stdin",
     "output_type": "stream",
     "text": [
      "Lütfen kullanıcı adı oluşturunuz:  yrl\n",
      "Lütfen şifre oluşturunuz:  453536\n"
     ]
    },
    {
     "name": "stdout",
     "output_type": "stream",
     "text": [
      "Hesabınız oluşturuldu...\n"
     ]
    }
   ],
   "source": [
    "kullanici_adi = input(\"Lütfen kullanıcı adı oluşturunuz: \")\n",
    "sifre = input(\"Lütfen şifre oluşturunuz: \")\n",
    "\n",
    "if len(sifre) >= 6:\n",
    "    print(\"Hesabınız oluşturuldu...\")\n",
    "else:\n",
    "    print(\"Şifreniz en az 6 karakterden oluşmalıdır!!!\")"
   ]
  },
  {
   "cell_type": "code",
   "execution_count": 5,
   "id": "d234003f-bc47-4f28-b18d-f09bdd0920dd",
   "metadata": {},
   "outputs": [
    {
     "data": {
      "text/plain": [
       "' Ödev-3 : Bir önceki örnek geliştirilir;\\n 1- Kullanıcı girdiği şifre 5 ve 10 hane arasında olmak zorunda.\\n 2- Eğer bu koşula uyuyorsa \"Hesabınız oluşturuldu.\" mesajı alır.\\n 3- Koşulu sağlamıyorsa \"Lütfen girdiniz şifre 5 haneden az 10 haneden fazla olmasın!\" uyarısı alır.\\n 4- Bunu oluştururken kullanıcı istediğimiz şartlarda şifre oluşturana kadar sormaya devam eder.\\n'"
      ]
     },
     "execution_count": 5,
     "metadata": {},
     "output_type": "execute_result"
    }
   ],
   "source": [
    "\"\"\" Ödev-3 : Bir önceki örnek geliştirilir;\n",
    " 1- Kullanıcı girdiği şifre 5 ve 10 hane arasında olmak zorunda.\n",
    " 2- Eğer bu koşula uyuyorsa \"Hesabınız oluşturuldu.\" mesajı alır.\n",
    " 3- Koşulu sağlamıyorsa \"Lütfen girdiniz şifre 5 haneden az 10 haneden fazla olmasın!\" uyarısı alır.\n",
    " 4- Bunu oluştururken kullanıcı istediğimiz şartlarda şifre oluşturana kadar sormaya devam eder.\n",
    "\"\"\""
   ]
  },
  {
   "cell_type": "code",
   "execution_count": 6,
   "id": "58fe73f6-88fc-4be7-81ad-962160f9762e",
   "metadata": {},
   "outputs": [
    {
     "name": "stdin",
     "output_type": "stream",
     "text": [
      "Lütfen kullanıcı adı oluşturunuz:  344yre\n",
      "Lütfen şifre oluşturunuz:  654748\n"
     ]
    },
    {
     "name": "stdout",
     "output_type": "stream",
     "text": [
      "Hesabınız oluşturuldu\n"
     ]
    }
   ],
   "source": [
    "kullanici_adi = input(\"Lütfen kullanıcı adı oluşturunuz: \")\n",
    "while True:\n",
    "    sifre = input(\"Lütfen şifre oluşturunuz: \")\n",
    "    if len(sifre) >= 5 and len(sifre)<=10:\n",
    "        print(\"Hesabınız oluşturuldu\")\n",
    "        break\n",
    "    else:\n",
    "        print(\"Lütfen girdiniz şifre 5 haneden az 10 haneden fazla olmasın!\")"
   ]
  },
  {
   "cell_type": "code",
   "execution_count": 7,
   "id": "a8e3301e-8653-49aa-9a4d-3548ea2f1317",
   "metadata": {},
   "outputs": [
    {
     "data": {
      "text/plain": [
       "' Ödev-4 : Kullanıcıdan isim ve şifre isteyeceğiz ve şifre girişi için 3 hak verilir;\\n 1- Eğer önceden tanımlı şifre ile kullanıcıdan gelen şifre aynıysa \"Giriş yapldı.\" yazar.\\n 2- Şifre girişi yanlışsa \"Yanlış şifre girildi!\" uyarısı verilsin ve üç yanlış denemede program biter.\\n 3- Tercihe göre kalan hak bilgisi verilir.\\n'"
      ]
     },
     "execution_count": 7,
     "metadata": {},
     "output_type": "execute_result"
    }
   ],
   "source": [
    "\"\"\" Ödev-4 : Kullanıcıdan isim ve şifre isteyeceğiz ve şifre girişi için 3 hak verilir;\n",
    " 1- Eğer önceden tanımlı şifre ile kullanıcıdan gelen şifre aynıysa \"Giriş yapldı.\" yazar.\n",
    " 2- Şifre girişi yanlışsa \"Yanlış şifre girildi!\" uyarısı verilsin ve üç yanlış denemede program biter.\n",
    " 3- Tercihe göre kalan hak bilgisi verilir.\n",
    "\"\"\""
   ]
  },
  {
   "cell_type": "code",
   "execution_count": 8,
   "id": "09d81157-a15e-414f-b0d7-f3e0170b5b47",
   "metadata": {},
   "outputs": [
    {
     "name": "stdin",
     "output_type": "stream",
     "text": [
      "Lütfen isminizi girin:  yel\n",
      "Lütfen şifrenizi girin:  67547648\n"
     ]
    },
    {
     "name": "stdout",
     "output_type": "stream",
     "text": [
      "Yanlış şifre girildi! Kalan hakkınız: 2\n"
     ]
    },
    {
     "name": "stdin",
     "output_type": "stream",
     "text": [
      "Lütfen şifrenizi girin:  1235\n"
     ]
    },
    {
     "name": "stdout",
     "output_type": "stream",
     "text": [
      "Yanlış şifre girildi! Kalan hakkınız: 1\n"
     ]
    },
    {
     "name": "stdin",
     "output_type": "stream",
     "text": [
      "Lütfen şifrenizi girin:  12345\n"
     ]
    },
    {
     "name": "stdout",
     "output_type": "stream",
     "text": [
      "Giriş yapıldı.\n"
     ]
    }
   ],
   "source": [
    "sifre = \"12345\"\n",
    "isim = input(\"Lütfen isminizi girin: \")\n",
    "sayi = 3 \n",
    "while sayi > 0:\n",
    "    kullanici_sifre = input(\"Lütfen şifrenizi girin: \")\n",
    "    if kullanici_sifre == sifre:\n",
    "        print(\"Giriş yapıldı.\")\n",
    "        break\n",
    "    else:\n",
    "        sayi -= 1\n",
    "        if sayi > 0:\n",
    "            print(\"Yanlış şifre girildi! Kalan hakkınız: \" + str(sayi))\n",
    "        else:\n",
    "            print(\"Yanlış şifre girildi! Deneme hakkınız bitti.\")"
   ]
  },
  {
   "cell_type": "code",
   "execution_count": null,
   "id": "48b6e29f-b972-48ac-9c86-db2c6b948d71",
   "metadata": {},
   "outputs": [],
   "source": []
  }
 ],
 "metadata": {
  "kernelspec": {
   "display_name": "Python 3 (ipykernel)",
   "language": "python",
   "name": "python3"
  },
  "language_info": {
   "codemirror_mode": {
    "name": "ipython",
    "version": 3
   },
   "file_extension": ".py",
   "mimetype": "text/x-python",
   "name": "python",
   "nbconvert_exporter": "python",
   "pygments_lexer": "ipython3",
   "version": "3.11.7"
  }
 },
 "nbformat": 4,
 "nbformat_minor": 5
}
