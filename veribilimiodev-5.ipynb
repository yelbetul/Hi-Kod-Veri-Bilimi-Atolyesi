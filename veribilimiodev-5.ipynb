{
 "cells": [
  {
   "cell_type": "markdown",
   "metadata": {},
   "source": [
    "### Ödev 1\n",
    "\n",
    "Bir sözlük oluşturulur ve bu sözlükte öğrencilerin isimleri ve Matematik, Fizik, Kimya notları tutulur. Kullanıcıdan isim ve ders ismi(Matematik, Fizik, Kimya) istenir ve bu bilgilere göre çıktı verilir."
   ]
  },
  {
   "cell_type": "code",
   "execution_count": 1,
   "metadata": {},
   "outputs": [],
   "source": [
    "ogrenci_not_bilgileri = {\n",
    "    \"Betül\": {\"Matematik\": 85, \"Fizik\": 78, \"Kimya\": 92},\n",
    "    \"Hasan\": {\"Matematik\": 90, \"Fizik\": 88, \"Kimya\": 94},\n",
    "    \"Yaren\": {\"Matematik\": 76, \"Fizik\": 89, \"Kimya\": 85},\n",
    "    \"Berkay\": {\"Matematik\": 60, \"Fizik\": 78, \"Kimya\": 95}\n",
    "}"
   ]
  },
  {
   "cell_type": "code",
   "execution_count": 2,
   "metadata": {},
   "outputs": [
    {
     "name": "stdin",
     "output_type": "stream",
     "text": [
      "Not bilgisini öğrenmek istediğiniz Öğrencinin ismini girer misiniz?:  Betül\n",
      "Ders ismini girer misiniz (Matematik / Fizik / Kimya):  Matematik\n"
     ]
    }
   ],
   "source": [
    "ogrenci = input(\"Not bilgisini öğrenmek istediğiniz Öğrencinin ismini girer misiniz?: \")\n",
    "ders = input(\"Ders ismini girer misiniz (Matematik / Fizik / Kimya): \")"
   ]
  },
  {
   "cell_type": "code",
   "execution_count": 5,
   "metadata": {},
   "outputs": [
    {
     "name": "stdout",
     "output_type": "stream",
     "text": [
      "Betül adlı öğrencinin Matematik notu: 85\n"
     ]
    }
   ],
   "source": [
    "if ogrenci in ogrenci_not_bilgileri and ders in ogrenci_not_bilgileri[ogrenci]:\n",
    "    print(f\"{ogrenci} adlı öğrencinin {ders} notu: {ogrenci_not_bilgileri[ogrenci][ders]}\")\n",
    "else:\n",
    "    print(\"Öğrencinin adı veya ders ismi yanlış!\")"
   ]
  },
  {
   "cell_type": "markdown",
   "metadata": {},
   "source": [
    "### Ödev 2\n",
    "\n",
    "Sözlük üzerinde değerleri değiştirme, yeni değer ekleme, kullanıcıya ulaşmak istediği bilgileri sorma gibi uygulamalar yapın."
   ]
  },
  {
   "cell_type": "code",
   "execution_count": 7,
   "metadata": {},
   "outputs": [
    {
     "name": "stdout",
     "output_type": "stream",
     "text": [
      "Berkay'ın yeni Matematik notu: 95\n"
     ]
    }
   ],
   "source": [
    "ogrenci_not_bilgileri[\"Berkay\"][\"Matematik\"] = 95\n",
    "print(f\"Berkay'ın yeni Matematik notu: {ogrenci_not_bilgileri['Berkay']['Matematik']}\")"
   ]
  },
  {
   "cell_type": "code",
   "execution_count": 11,
   "metadata": {},
   "outputs": [
    {
     "name": "stdout",
     "output_type": "stream",
     "text": [
      "Derya'nın notları: {'Matematik': 88, 'Fizik': 90, 'Kimya': 87}\n"
     ]
    }
   ],
   "source": [
    "ogrenci_not_bilgileri[\"Derya\"] = {\"Matematik\": 88, \"Fizik\": 90, \"Kimya\": 87}\n",
    "print(\"Derya'nın notları:\", ogrenci_not_bilgileri[\"Derya\"])"
   ]
  },
  {
   "cell_type": "code",
   "execution_count": 12,
   "metadata": {},
   "outputs": [
    {
     "data": {
      "text/plain": [
       "{'Betül': {'Matematik': 85, 'Fizik': 78, 'Kimya': 92},\n",
       " 'Hasan': {'Matematik': 90, 'Fizik': 88, 'Kimya': 94},\n",
       " 'Yaren': {'Matematik': 76, 'Fizik': 89, 'Kimya': 85},\n",
       " 'Berkay': {'Matematik': 95, 'Fizik': 78, 'Kimya': 95},\n",
       " 'Derya': {'Matematik': 88, 'Fizik': 90, 'Kimya': 87}}"
      ]
     },
     "execution_count": 12,
     "metadata": {},
     "output_type": "execute_result"
    }
   ],
   "source": [
    "ogrenci_not_bilgileri"
   ]
  },
  {
   "cell_type": "code",
   "execution_count": null,
   "metadata": {},
   "outputs": [],
   "source": []
  }
 ],
 "metadata": {
  "kernelspec": {
   "display_name": "Python 3 (ipykernel)",
   "language": "python",
   "name": "python3"
  },
  "language_info": {
   "codemirror_mode": {
    "name": "ipython",
    "version": 3
   },
   "file_extension": ".py",
   "mimetype": "text/x-python",
   "name": "python",
   "nbconvert_exporter": "python",
   "pygments_lexer": "ipython3",
   "version": "3.11.7"
  },
  "widgets": {
   "application/vnd.jupyter.widget-state+json": {
    "state": {},
    "version_major": 2,
    "version_minor": 0
   }
  }
 },
 "nbformat": 4,
 "nbformat_minor": 4
}
